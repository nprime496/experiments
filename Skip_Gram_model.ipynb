{
  "cells": [
    {
      "cell_type": "markdown",
      "metadata": {
        "id": "view-in-github",
        "colab_type": "text"
      },
      "source": [
        "<a href=\"https://colab.research.google.com/github/nprime496/experiments/blob/main/Skip_Gram_model.ipynb\" target=\"_parent\"><img src=\"https://colab.research.google.com/assets/colab-badge.svg\" alt=\"Open In Colab\"/></a>"
      ]
    },
    {
      "cell_type": "markdown",
      "source": [
        "This notebook is inspired by [kdnugets](https://www.kdnuggets.com/2018/04/implementing-deep-learning-methods-feature-engineering-text-data-skip-gram.html#:~:text=The%20Skip%2Dgram%20model%20architecture,jumps%20over%20the%20lazy%20dog%E2%80%9D.) using [Pytorch](https://pytorch.org/) framework.\n",
        "\n",
        "\n",
        "We implement a skip-gram model to learn word embeddings from english [bible corpus](https://opus.nlpl.eu/bible-uedin.php)."
      ],
      "metadata": {
        "id": "mYUjssXCe-Wz"
      }
    },
    {
      "cell_type": "markdown",
      "source": [
        "## Imports"
      ],
      "metadata": {
        "id": "mTF3yjZjgyLs"
      }
    },
    {
      "cell_type": "markdown",
      "source": [
        "we will use Pytorch for model definition, torchtext for some text manipulation utils (tokenizer), numpy for diverse purposes and cleantext for text preparation."
      ],
      "metadata": {
        "id": "fU6Gju4ViKIm"
      }
    },
    {
      "cell_type": "code",
      "source": [
        "from torch import nn\n",
        "import torch\n",
        "from torch import optim"
      ],
      "metadata": {
        "id": "j40eHRuoiZwE"
      },
      "execution_count": 47,
      "outputs": []
    },
    {
      "cell_type": "code",
      "execution_count": 48,
      "metadata": {
        "id": "lIYdn1woOS1n"
      },
      "outputs": [],
      "source": [
        "import torchtext\n",
        "from torchtext.data import get_tokenizer"
      ]
    },
    {
      "cell_type": "code",
      "source": [
        "!pip install cleantext"
      ],
      "metadata": {
        "colab": {
          "base_uri": "https://localhost:8080/"
        },
        "id": "kuDczkyVKtuc",
        "outputId": "a173b5fa-0e11-4960-9640-3ffd561c1945"
      },
      "execution_count": 49,
      "outputs": [
        {
          "output_type": "stream",
          "name": "stdout",
          "text": [
            "Requirement already satisfied: cleantext in /usr/local/lib/python3.7/dist-packages (1.1.4)\n",
            "Requirement already satisfied: nltk in /usr/local/lib/python3.7/dist-packages (from cleantext) (3.2.5)\n",
            "Requirement already satisfied: six in /usr/local/lib/python3.7/dist-packages (from nltk->cleantext) (1.15.0)\n"
          ]
        }
      ]
    },
    {
      "cell_type": "code",
      "source": [
        "from cleantext import clean\n",
        "import numpy as np"
      ],
      "metadata": {
        "id": "XVO5Z4w-Kw1K"
      },
      "execution_count": 50,
      "outputs": []
    },
    {
      "cell_type": "markdown",
      "source": [
        "## Setup"
      ],
      "metadata": {
        "id": "CKcp5dQdg1Wf"
      }
    },
    {
      "cell_type": "markdown",
      "source": [
        "We define the device we are working on : can be a CPU or a GPU ([cuda](https://fr.wikipedia.org/wiki/Compute_Unified_Device_Architecture))"
      ],
      "metadata": {
        "id": "GS5Ebh9Gib0r"
      }
    },
    {
      "cell_type": "code",
      "source": [
        "device = torch.device(\"cuda\" if torch.cuda.is_available() else \"cpu\")\n",
        "device"
      ],
      "metadata": {
        "colab": {
          "base_uri": "https://localhost:8080/"
        },
        "id": "SjiutigxY0vp",
        "outputId": "1e1bc8f4-3def-4d5a-cd4c-a793c02c13ab"
      },
      "execution_count": 51,
      "outputs": [
        {
          "output_type": "execute_result",
          "data": {
            "text/plain": [
              "device(type='cuda')"
            ]
          },
          "metadata": {},
          "execution_count": 51
        }
      ]
    },
    {
      "cell_type": "code",
      "source": [
        "!mkdir tmp #for storage"
      ],
      "metadata": {
        "colab": {
          "base_uri": "https://localhost:8080/"
        },
        "id": "PTxbCtXRpmqV",
        "outputId": "3c90b51a-4c5f-468c-cc6f-fe29594b9070"
      },
      "execution_count": 52,
      "outputs": [
        {
          "output_type": "stream",
          "name": "stdout",
          "text": [
            "mkdir: cannot create directory ‘tmp’: File exists\n"
          ]
        }
      ]
    },
    {
      "cell_type": "markdown",
      "source": [
        "## Load Dataset"
      ],
      "metadata": {
        "id": "f19UeMr3g49B"
      }
    },
    {
      "cell_type": "markdown",
      "source": [
        "The dataset we are using is bible corpus. The exact dataset used is available [here](https://drive.google.com/drive/folders/1Hj-0AyuTmOOLx9oNb8jI3X4N1usoiEE_?usp=sharing)"
      ],
      "metadata": {
        "id": "mXnXEcigiqvN"
      }
    },
    {
      "cell_type": "code",
      "source": [
        "!gdown 1MirZihSiDbZ6rBmWCaof5OLcLPGp-rnc"
      ],
      "metadata": {
        "colab": {
          "base_uri": "https://localhost:8080/"
        },
        "id": "MiSk4szuoFQZ",
        "outputId": "f07cc12e-0667-46e1-9df4-999cf4142ab5"
      },
      "execution_count": 53,
      "outputs": [
        {
          "output_type": "stream",
          "name": "stdout",
          "text": [
            "Downloading...\n",
            "From: https://drive.google.com/uc?id=1MirZihSiDbZ6rBmWCaof5OLcLPGp-rnc\n",
            "To: /content/bible.txt\n",
            "\r  0% 0.00/4.45M [00:00<?, ?B/s]\r100% 4.45M/4.45M [00:00<00:00, 222MB/s]\n"
          ]
        }
      ]
    },
    {
      "cell_type": "code",
      "source": [
        "with open(\"bible.txt\") as f:\n",
        "  bible=f.readlines()"
      ],
      "metadata": {
        "id": "_5aS64cKY2G6"
      },
      "execution_count": 54,
      "outputs": []
    },
    {
      "cell_type": "code",
      "source": [
        "bible[:5]"
      ],
      "metadata": {
        "colab": {
          "base_uri": "https://localhost:8080/"
        },
        "id": "MA5moq6pZBEZ",
        "outputId": "6d1e023f-5110-4863-8488-5df3a07ea425"
      },
      "execution_count": 55,
      "outputs": [
        {
          "output_type": "execute_result",
          "data": {
            "text/plain": [
              "['1:1 In the beginning God created the heaven and the earth.\\n',\n",
              " '\\n',\n",
              " '1:2 And the earth was without form, and void; and darkness was upon\\n',\n",
              " 'the face of the deep. And the Spirit of God moved upon the face of the\\n',\n",
              " 'waters.\\n']"
            ]
          },
          "metadata": {},
          "execution_count": 55
        }
      ]
    },
    {
      "cell_type": "markdown",
      "source": [
        "## Data Preparation"
      ],
      "metadata": {
        "id": "WNcRYkQRg77C"
      }
    },
    {
      "cell_type": "markdown",
      "source": [
        "We clean the dataset using some parameters.\n",
        "\n",
        "* stopwords: Remove stop words\n",
        "* param lowercase: Convert to lowercase\n",
        "* numbers: Remove all digits\n",
        "* punct: Remove all punctuations"
      ],
      "metadata": {
        "id": "VT2D_SFxjOqJ"
      }
    },
    {
      "cell_type": "code",
      "source": [
        "%%time\n",
        "from cleantext import clean\n",
        "fichier=[]\n",
        "for l in bible:\n",
        "  cleaned=clean(l,stopwords=True,lowercase=True,numbers=True,punct=True)\n",
        "  if len(cleaned.split(\" \"))>1:\n",
        "    fichier.append(cleaned)"
      ],
      "metadata": {
        "id": "ynsvAL3aKzPh",
        "colab": {
          "base_uri": "https://localhost:8080/"
        },
        "outputId": "6f33f28b-b60b-4a2f-c449-b5df30784f3e"
      },
      "execution_count": 56,
      "outputs": [
        {
          "output_type": "stream",
          "name": "stdout",
          "text": [
            "CPU times: user 27 s, sys: 2.6 s, total: 29.6 s\n",
            "Wall time: 34.6 s\n"
          ]
        }
      ]
    },
    {
      "cell_type": "code",
      "source": [
        "fichier[:5]"
      ],
      "metadata": {
        "colab": {
          "base_uri": "https://localhost:8080/"
        },
        "id": "GGxiyM65LPMW",
        "outputId": "3f54e444-cae5-4118-dfd2-9bc59d9e2d62"
      },
      "execution_count": 57,
      "outputs": [
        {
          "output_type": "execute_result",
          "data": {
            "text/plain": [
              "['beginning god created heaven earth',\n",
              " 'earth without form void darkness upon',\n",
              " 'face deep spirit god moved upon face',\n",
              " 'god said let light light',\n",
              " 'god saw light good god divided light']"
            ]
          },
          "metadata": {},
          "execution_count": 57
        }
      ]
    },
    {
      "cell_type": "markdown",
      "source": [
        "We tokenize the dataset. \n",
        "\n",
        "Interesting: we talk about token instead of words because it may contain punctuations (but we removed them earlier)"
      ],
      "metadata": {
        "id": "FuRRvlQxj8ml"
      }
    },
    {
      "cell_type": "code",
      "source": [
        "tokenizer = get_tokenizer(\"basic_english\")\n",
        "tokens = tokenizer(\" \".join(fichier))\n",
        "tokens[:10]"
      ],
      "metadata": {
        "id": "shT4A8WiWtH8",
        "outputId": "69cbfd61-f1a1-403e-bfe8-bdbad8d9e028",
        "colab": {
          "base_uri": "https://localhost:8080/"
        }
      },
      "execution_count": 58,
      "outputs": [
        {
          "output_type": "execute_result",
          "data": {
            "text/plain": [
              "['beginning',\n",
              " 'god',\n",
              " 'created',\n",
              " 'heaven',\n",
              " 'earth',\n",
              " 'earth',\n",
              " 'without',\n",
              " 'form',\n",
              " 'void',\n",
              " 'darkness']"
            ]
          },
          "metadata": {},
          "execution_count": 58
        }
      ]
    },
    {
      "cell_type": "markdown",
      "source": [
        "We create a dictionnary mapping each token to a unique id."
      ],
      "metadata": {
        "id": "jjfuV4F5kMcP"
      }
    },
    {
      "cell_type": "code",
      "source": [
        "token2id={t.lower():i for i,t in enumerate(set(tokens))}\n",
        "vocab_size=len(token2id)\n",
        "vocab_size"
      ],
      "metadata": {
        "id": "N_NUIVh0XSZk",
        "colab": {
          "base_uri": "https://localhost:8080/"
        },
        "outputId": "84293113-7a63-4a08-bccd-9082f4c28b37"
      },
      "execution_count": 59,
      "outputs": [
        {
          "output_type": "execute_result",
          "data": {
            "text/plain": [
              "12821"
            ]
          },
          "metadata": {},
          "execution_count": 59
        }
      ]
    },
    {
      "cell_type": "markdown",
      "source": [
        "We create the reverse mapping for testing purposes."
      ],
      "metadata": {
        "id": "9NSMy0FykVJl"
      }
    },
    {
      "cell_type": "code",
      "source": [
        "reversetoken={token2id[v]:v for v in token2id.keys()}"
      ],
      "metadata": {
        "id": "IUp6YC7BO6h_"
      },
      "execution_count": 60,
      "outputs": []
    },
    {
      "cell_type": "markdown",
      "source": [
        "We create `(target, context)` pairs such that each context consists of only one word. Hence our dataset from earlier gets transformed into pairs like (brown, quick), (brown, fox), (quick, the), (quick, brown) and so on. But how to supervise or train the model to know what is contextual and what is not?\n",
        "\n",
        "We do this by using `((target, context), 1)` pairs as positive input samples where target is our word of interest and context is a context word occurring near the target word and the positive label 1 indicates this is a contextually relevant pair. We also feed in `((target, random), 0)` pairs as negative input samples where target is again our word of interest but random is just a randomly selected word from our vocabulary which has no context or association with our target word. Hence the negative label 0 indicates this is a contextually irrelevant pair.\n",
        "\n",
        "e.g: \"The quick brown fox.\"\n",
        "\n",
        "```[((the,quick),1), (the,random,0),(((quick,brown),1),((quick,brown,1),...]```\n",
        "\n",
        " We do this so that the model can then learn which pairs of words are contextually relevant and which are not and generate similar embeddings for semantically similar words.\n",
        "\n",
        " It’s now time to build out our skip-gram generator which will give us pair of words and their relevance like we discussed earlier. "
      ],
      "metadata": {
        "id": "NiWounywkY8I"
      }
    },
    {
      "cell_type": "code",
      "source": [
        "import random\n",
        "\n",
        "skips=None\n",
        "\n",
        "def skipgram(corpus,vocab,tokenize=get_tokenizer(\"basic_english\"),window_size=4):\n",
        "  context=[]\n",
        "  labels=[]\n",
        "  negs=[]\n",
        "  vocab_size=len(vocab)\n",
        "  for sentence in corpus:\n",
        "    words=tokenize(sentence)\n",
        "    n=len(words)\n",
        "    for i,w in enumerate(words):\n",
        "      if not vocab.get(w):\n",
        "        continue\n",
        "      curr=vocab[w]\n",
        "      for j in range(max(0,i-window_size),min(i+window_size+1,n)):\n",
        "        #print(\"boucle\")\n",
        "        if i!=j:\n",
        "          if not vocab.get(words[j]):\n",
        "            continue\n",
        "          context.append((vocab[w],vocab[words[j]],1))\n",
        "          #labels.append(1)\n",
        "          negs.append((vocab[w],random.randint(1,vocab_size-1),0))\n",
        "  context.extend(negs)\n",
        "  random.shuffle(context)\n",
        "  return context[:]\n"
      ],
      "metadata": {
        "id": "a81cCeI1Wt8E"
      },
      "execution_count": 61,
      "outputs": []
    },
    {
      "cell_type": "markdown",
      "source": [
        "Let's to a test."
      ],
      "metadata": {
        "id": "wz46dbOUl7yx"
      }
    },
    {
      "cell_type": "code",
      "source": [
        "c =skipgram([\"whoever give a shit about what you are thinking is certainly stupid prat\"],vocab=token2id,window_size=3)\n",
        "for a,b,l in c:\n",
        "  print(reversetoken[a],reversetoken[b],l)"
      ],
      "metadata": {
        "colab": {
          "base_uri": "https://localhost:8080/"
        },
        "id": "0bdi0EHa95jL",
        "outputId": "7e8077a6-28a7-47fd-a92f-b7a3bac98131"
      },
      "execution_count": 62,
      "outputs": [
        {
          "output_type": "stream",
          "name": "stdout",
          "text": [
            "certainly thinking 1\n",
            "thinking party 0\n",
            "thinking certainly 1\n",
            "give whoever 1\n",
            "certainly enmity 0\n",
            "give toes 0\n",
            "whoever caves 0\n",
            "whoever give 1\n"
          ]
        }
      ]
    },
    {
      "cell_type": "code",
      "source": [
        "%%time\n",
        "skips= skipgram(fichier,vocab=token2id,window_size=3)"
      ],
      "metadata": {
        "colab": {
          "base_uri": "https://localhost:8080/"
        },
        "id": "iaiy16YaO4ZO",
        "outputId": "22f799eb-171c-49fa-ed8d-64cd7a3f6017"
      },
      "execution_count": 63,
      "outputs": [
        {
          "output_type": "stream",
          "name": "stdout",
          "text": [
            "CPU times: user 6.34 s, sys: 98.8 ms, total: 6.44 s\n",
            "Wall time: 6.43 s\n"
          ]
        }
      ]
    },
    {
      "cell_type": "code",
      "source": [
        "print(f\"We obtain {len(skips)} pairs\")"
      ],
      "metadata": {
        "id": "LXtbvD9QhgJ1",
        "colab": {
          "base_uri": "https://localhost:8080/"
        },
        "outputId": "a17bd46e-14a6-4b06-9ef2-9e4bdb7ec858"
      },
      "execution_count": 64,
      "outputs": [
        {
          "output_type": "stream",
          "name": "stdout",
          "text": [
            "We obtain 2808352 pairs\n"
          ]
        }
      ]
    },
    {
      "cell_type": "markdown",
      "source": [
        "## Model Definition"
      ],
      "metadata": {
        "id": "K4BXbH15hN4K"
      }
    },
    {
      "cell_type": "markdown",
      "source": [
        "We have a pair of input words for each training example consisting of one input target word having a unique numeric identifier and one context word having a unique numeric identifier. If it is a positive sample the word has contextual meaning, is a context wordand our label Y=1, else if it is a negative sample, the word has no contextual meaning, is just a random word and our label Y=0.\n",
        "\n",
        "We will pass each of them to an embedding layer of their own, having size (vocab_size x embed_size) which will give us dense word embeddings for each of these two words (1 x embed_size for each word). Next up we use a merge layer to compute the dot product of these two embeddings and get the dot product value.\n",
        "\n",
        "This is then sent to the dense sigmoid layer which outputs either a 1 or 0. We compare this with the actual label Y (1 or 0), compute the loss, backpropagate the errors to adjust the weights (in the embedding layer) and repeat this process for all (target, context) pairs for multiple epochs. The following figure tries to explain the same"
      ],
      "metadata": {
        "id": "hvqVrzugmOTi"
      }
    },
    {
      "cell_type": "markdown",
      "source": [
        "![1_4Uil1zWWF5-jlt-FnRJgAQ.png](data:image/png;base64,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)"
      ],
      "metadata": {
        "id": "4a_MEymbiAxr"
      }
    },
    {
      "cell_type": "code",
      "source": [
        "class SkipGramModel(nn.Module):\n",
        "  def __init__(self,vocab_size,embedding_size):\n",
        "    super(SkipGramModel,self).__init__()\n",
        "    assert(vocab_size>0)\n",
        "    self.vocab_size=vocab_size\n",
        "    assert(embedding_size>0)\n",
        "    self.embedding_size=embedding_size\n",
        "\n",
        "    # define model\n",
        "    self.emb_w=nn.Embedding(num_embeddings=self.vocab_size,embedding_dim=self.embedding_size)\n",
        "    self.emb_c=nn.Embedding(num_embeddings=self.vocab_size,embedding_dim=self.embedding_size)\n",
        "    self.linear=nn.Linear(self.embedding_size,1)\n",
        "    self.sigmoid=nn.Sigmoid()\n",
        "\n",
        "  def forward(self,X):\n",
        "    (w,c)=X\n",
        "    try:\n",
        "      out1=self.emb_w(w)\n",
        "      out2=self.emb_c(c)\n",
        "      m=torch.mul(out1,out2)\n",
        "      out=self.linear(m)\n",
        "      out=self.sigmoid(out)\n",
        "      return out\n",
        "    except Exception as e:\n",
        "      raise e\n",
        "\n",
        "\n"
      ],
      "metadata": {
        "id": "BEvynUkpg_BN"
      },
      "execution_count": 65,
      "outputs": []
    },
    {
      "cell_type": "markdown",
      "source": [
        "## Testing Model [TODO]\n"
      ],
      "metadata": {
        "id": "oKqJo0C_m75P"
      }
    },
    {
      "cell_type": "markdown",
      "source": [
        "This is a bit unusual but necessary. Errors can slip in models very easily and we need to unit test them."
      ],
      "metadata": {
        "id": "5GcH33Ayo0GF"
      }
    },
    {
      "cell_type": "markdown",
      "source": [
        "Here, I verify all layers weights change after a step, meaning backpropagation is working."
      ],
      "metadata": {
        "id": "a7rehGkto7-l"
      }
    },
    {
      "cell_type": "code",
      "source": [
        "# check if any optimization has been done on each layer\n",
        "\n",
        "def check_optimization_step(test_model):\n",
        "  from copy import deepcopy\n",
        "  old_model=deepcopy(test_model)\n",
        "  result=test_model.forward(torch.LongTensor([[0,1,7],[7,1,0]]))\n",
        "  \n",
        "  criterion=nn.BCELoss()\n",
        "  optimizer=optim.SGD(test_model.parameters(), lr=0.05, momentum=0.9)\n",
        "  test_loss= criterion(result,torch.tensor([[0],[1],[0]],dtype=torch.float))\n",
        "  test_loss.backward()\n",
        "  optimizer.step()\n",
        "  for layer1,layer2 in zip(test_model.named_parameters(),old_model.named_parameters()):\n",
        "    assert(any((layer1[1]!=layer2[1]).ravel())),f\"parameters on layer {layer1[0]} not optimized\""
      ],
      "metadata": {
        "id": "Qs8FvV45nAt2"
      },
      "execution_count": 66,
      "outputs": []
    },
    {
      "cell_type": "code",
      "source": [
        "check_optimization_step(SkipGramModel(vocab_size,10))"
      ],
      "metadata": {
        "id": "fUoxX4RNnBr6"
      },
      "execution_count": 67,
      "outputs": []
    },
    {
      "cell_type": "markdown",
      "source": [
        "## Training utils definition"
      ],
      "metadata": {
        "id": "UrcEUejCmzUF"
      }
    },
    {
      "cell_type": "code",
      "source": [
        "def chunks(c,l, n):\n",
        "    \"\"\"Yield successive n-sized chunks from lst.\"\"\"\n",
        "    for i in range(0, len(c[0]), n):\n",
        "        yield (([e for e in c[0][i:i + n]],[e for e in c[1][i:i + n]]),l[i:i + n])\n",
        "\n",
        "def chunks_list(lst, n):\n",
        "    \"\"\"Yield successive n-sized chunks from lst.\"\"\"\n",
        "    for i in range(0, len(lst), n):\n",
        "        yield lst[i:i + n]"
      ],
      "metadata": {
        "id": "P_qD0JNi_ouo"
      },
      "execution_count": 68,
      "outputs": []
    },
    {
      "cell_type": "code",
      "source": [
        "def train(model,X_train,y_train,X_val=None,y_val=None,epochs=100,batch_size=40):\n",
        "  assert((X_val is not None) == (y_val is not None)),\"validation not properly set up\"\n",
        "  valid=(X_val is not None)\n",
        "  from copy import deepcopy\n",
        "  criterion=nn.BCELoss()\n",
        "  best_model=None\n",
        "  best_val_loss=np.inf\n",
        "  optimizer=optim.SGD(model.parameters(), lr=0.001, momentum=0.9)\n",
        "  for epoch in range(epochs):\n",
        "    running_loss = 0.0\n",
        "    val_loss = 0.0\n",
        "    n = len(X_train[0])//batch_size\n",
        "    for x,y in chunks(X_train,y_train,n=batch_size):\n",
        "      x = torch.tensor(x).to(device)\n",
        "      y = torch.tensor(y,dtype=torch.float).to(device)\n",
        "      optimizer.zero_grad()\n",
        "      outputs=model(x)\n",
        "      loss=criterion(outputs,y.unsqueeze(1))\n",
        "      loss.backward()\n",
        "      optimizer.step()\n",
        "      running_loss+=loss.item()\n",
        "    if valid:\n",
        "      \n",
        "      model.eval()#no grad calculation\n",
        "      nval = len(X_val[0])//batch_size\n",
        "      for xval,yval in chunks(X_val,y_val,n=batch_size):\n",
        "        x = torch.tensor(xval).to(device)\n",
        "        y = torch.tensor(yval,dtype=torch.float).to(device)\n",
        "        outputs=model(x)\n",
        "        loss=criterion(outputs,y.unsqueeze(1))\n",
        "        val_loss+=loss.item()\n",
        "    \n",
        "    if(val_loss<best_val_loss):\n",
        "      best_val_loss=val_loss\n",
        "      best_model=deepcopy(model)\n",
        "      torch.save(best_model.state_dict(),\"tmp/best_model_so_far.dict\")\n",
        "\n",
        "\n",
        "    if epoch % 2==0:\n",
        "      print(f'Epoch [{epoch + 1}] loss: {running_loss/n:.7f}',end=\"\")\n",
        "      if valid:\n",
        "        print(f', val loss: {val_loss/nval:.7f}',end=\"\")\n",
        "      print()\n",
        "  return best_val_loss,best_model\n",
        "\n",
        "\n",
        "def score(X_test,y_test):\n",
        "  pass"
      ],
      "metadata": {
        "id": "xI8GVi9FhLKr"
      },
      "execution_count": 69,
      "outputs": []
    },
    {
      "cell_type": "code",
      "source": [
        "# torch.save(model.state_dict(), PATH)\n",
        "\n",
        "# model = TheModelClass(*args, **kwargs)\n",
        "# model.load_state_dict(torch.load(PATH))\n",
        "# model.eval()"
      ],
      "metadata": {
        "id": "F43NtwH9nYwP"
      },
      "execution_count": 70,
      "outputs": []
    },
    {
      "cell_type": "markdown",
      "source": [
        "## Training"
      ],
      "metadata": {
        "id": "nHGQHmluGR3M"
      }
    },
    {
      "cell_type": "code",
      "source": [
        "skips=skips[:1_000_000]"
      ],
      "metadata": {
        "id": "ISvRyyONWRw_"
      },
      "execution_count": 71,
      "outputs": []
    },
    {
      "cell_type": "code",
      "source": [
        "valid_set=100000"
      ],
      "metadata": {
        "id": "HD9zOaRxLnNV"
      },
      "execution_count": 72,
      "outputs": []
    },
    {
      "cell_type": "code",
      "source": [
        "def create_dataset(skips):\n",
        "  words=[e[0] for e in skips]\n",
        "  context=[e[1] for e in skips]\n",
        "  label=[e[2] for e in skips]\n",
        "  return words,context,label"
      ],
      "metadata": {
        "id": "pL4Wah5ALw1D"
      },
      "execution_count": 73,
      "outputs": []
    },
    {
      "cell_type": "code",
      "source": [
        "len(skips[valid_set:])"
      ],
      "metadata": {
        "colab": {
          "base_uri": "https://localhost:8080/"
        },
        "id": "UXKJSXAGMHEr",
        "outputId": "bf022f22-edc9-41d1-823e-16babd20d3ff"
      },
      "execution_count": 74,
      "outputs": [
        {
          "output_type": "execute_result",
          "data": {
            "text/plain": [
              "900000"
            ]
          },
          "metadata": {},
          "execution_count": 74
        }
      ]
    },
    {
      "cell_type": "code",
      "source": [
        "%%time\n",
        "words,context,label=create_dataset(skips[valid_set:])"
      ],
      "metadata": {
        "id": "UUrCE9I9Gdlp",
        "colab": {
          "base_uri": "https://localhost:8080/"
        },
        "outputId": "628ebd4a-01ce-43aa-d0da-ac198f12d3d9"
      },
      "execution_count": 75,
      "outputs": [
        {
          "output_type": "stream",
          "name": "stdout",
          "text": [
            "CPU times: user 560 ms, sys: 4.92 ms, total: 565 ms\n",
            "Wall time: 575 ms\n"
          ]
        }
      ]
    },
    {
      "cell_type": "code",
      "source": [
        "%%time\n",
        "words_valid,context_valid,label_valid=create_dataset(skips[:valid_set])"
      ],
      "metadata": {
        "colab": {
          "base_uri": "https://localhost:8080/"
        },
        "id": "GyqWWbNBL-eO",
        "outputId": "db72edbd-bbf7-4ac5-ff9d-2f0bc11aecd7"
      },
      "execution_count": 76,
      "outputs": [
        {
          "output_type": "stream",
          "name": "stdout",
          "text": [
            "CPU times: user 50.4 ms, sys: 1.05 ms, total: 51.4 ms\n",
            "Wall time: 51.9 ms\n"
          ]
        }
      ]
    },
    {
      "cell_type": "code",
      "source": [
        "m=SkipGramModel(vocab_size,512)\n",
        "m.to(device)"
      ],
      "metadata": {
        "colab": {
          "base_uri": "https://localhost:8080/"
        },
        "id": "amVlN7YQpoXW",
        "outputId": "df2a6148-e433-41c1-b485-c9e3e144df2b"
      },
      "execution_count": 77,
      "outputs": [
        {
          "output_type": "execute_result",
          "data": {
            "text/plain": [
              "SkipGramModel(\n",
              "  (emb_w): Embedding(12821, 512)\n",
              "  (emb_c): Embedding(12821, 512)\n",
              "  (linear): Linear(in_features=512, out_features=1, bias=True)\n",
              "  (sigmoid): Sigmoid()\n",
              ")"
            ]
          },
          "metadata": {},
          "execution_count": 77
        }
      ]
    },
    {
      "cell_type": "code",
      "source": [
        "vocab_size"
      ],
      "metadata": {
        "colab": {
          "base_uri": "https://localhost:8080/"
        },
        "id": "BckQHXpCWXwQ",
        "outputId": "440c89db-0fc9-48fd-9a78-4741be0a52a2"
      },
      "execution_count": 78,
      "outputs": [
        {
          "output_type": "execute_result",
          "data": {
            "text/plain": [
              "12821"
            ]
          },
          "metadata": {},
          "execution_count": 78
        }
      ]
    },
    {
      "cell_type": "code",
      "source": [
        "max(token2id.values())"
      ],
      "metadata": {
        "colab": {
          "base_uri": "https://localhost:8080/"
        },
        "id": "6H6raM8RWZdA",
        "outputId": "712aeeaa-1637-4431-f93a-a13da0c489e9"
      },
      "execution_count": 79,
      "outputs": [
        {
          "output_type": "execute_result",
          "data": {
            "text/plain": [
              "12820"
            ]
          },
          "metadata": {},
          "execution_count": 79
        }
      ]
    },
    {
      "cell_type": "code",
      "source": [
        "%%time\n",
        "loss,best_model=train(m,(words,context),label,X_val=(words_valid,context_valid),y_val=label_valid,epochs=50)"
      ],
      "metadata": {
        "colab": {
          "base_uri": "https://localhost:8080/"
        },
        "id": "4cGGIBkbBhiK",
        "outputId": "cedd4070-7e07-475a-fdfa-8835a8651ab5"
      },
      "execution_count": 80,
      "outputs": [
        {
          "output_type": "stream",
          "name": "stdout",
          "text": [
            "Epoch [1] loss: 0.6993471, val loss: 0.6996545\n",
            "Epoch [3] loss: 0.6989595, val loss: 0.6996162\n",
            "Epoch [5] loss: 0.6988969, val loss: 0.6995764\n",
            "Epoch [7] loss: 0.6988328, val loss: 0.6995351\n",
            "Epoch [9] loss: 0.6987671, val loss: 0.6994923\n",
            "Epoch [11] loss: 0.6986996, val loss: 0.6994478\n",
            "Epoch [13] loss: 0.6986305, val loss: 0.6994015\n",
            "Epoch [15] loss: 0.6985595, val loss: 0.6993535\n",
            "Epoch [17] loss: 0.6984866, val loss: 0.6993037\n",
            "Epoch [19] loss: 0.6984117, val loss: 0.6992519\n",
            "Epoch [21] loss: 0.6983348, val loss: 0.6991980\n",
            "Epoch [23] loss: 0.6982558, val loss: 0.6991421\n",
            "Epoch [25] loss: 0.6981745, val loss: 0.6990840\n",
            "Epoch [27] loss: 0.6980910, val loss: 0.6990235\n",
            "Epoch [29] loss: 0.6980051, val loss: 0.6989607\n",
            "Epoch [31] loss: 0.6979166, val loss: 0.6988954\n",
            "Epoch [33] loss: 0.6978256, val loss: 0.6988274\n",
            "Epoch [35] loss: 0.6977318, val loss: 0.6987567\n",
            "Epoch [37] loss: 0.6976352, val loss: 0.6986832\n",
            "Epoch [39] loss: 0.6975357, val loss: 0.6986067\n",
            "Epoch [41] loss: 0.6974331, val loss: 0.6985271\n",
            "Epoch [43] loss: 0.6973273, val loss: 0.6984442\n",
            "Epoch [45] loss: 0.6972182, val loss: 0.6983579\n",
            "Epoch [47] loss: 0.6971056, val loss: 0.6982681\n",
            "Epoch [49] loss: 0.6969893, val loss: 0.6981746\n",
            "CPU times: user 1h 2min 25s, sys: 46.1 s, total: 1h 3min 11s\n",
            "Wall time: 1h 3min 6s\n"
          ]
        }
      ]
    },
    {
      "cell_type": "markdown",
      "source": [
        "## Predictions & Visualisation"
      ],
      "metadata": {
        "id": "L14lqkJnPlQG"
      }
    },
    {
      "cell_type": "code",
      "source": [
        "weights=best_model.cpu().emb_c.weight.detach().numpy()"
      ],
      "metadata": {
        "id": "25dD8UZVHm3H"
      },
      "execution_count": 82,
      "outputs": []
    },
    {
      "cell_type": "code",
      "source": [
        "def is_context(model,word1,word2):\n",
        "  a=token2id[word1]\n",
        "  b=token2id[word2]\n",
        "  return model.cpu().forward(torch.tensor([[a],[b]]))"
      ],
      "metadata": {
        "id": "WHYep5ilHNd-"
      },
      "execution_count": 85,
      "outputs": []
    },
    {
      "cell_type": "code",
      "source": [
        "is_context(m,\"lord\",\"god\")"
      ],
      "metadata": {
        "id": "Hk0fRqw9HhIF",
        "colab": {
          "base_uri": "https://localhost:8080/"
        },
        "outputId": "dab8a90c-a1b5-4c6e-cfd3-66017eb0892b"
      },
      "execution_count": 86,
      "outputs": [
        {
          "output_type": "execute_result",
          "data": {
            "text/plain": [
              "tensor([[0.6938]], grad_fn=<SigmoidBackward0>)"
            ]
          },
          "metadata": {},
          "execution_count": 86
        }
      ]
    },
    {
      "cell_type": "code",
      "source": [
        "from sklearn.metrics.pairwise import euclidean_distances\n",
        "\n",
        "distance_matrix = euclidean_distances(weights)\n",
        "print(distance_matrix.shape)\n",
        "\n",
        "similar_words = {search_term: [reversetoken[idx] for idx in distance_matrix[token2id[search_term]-1].argsort()[1:6]+1] \n",
        "                   for search_term in ['god', 'egypt', 'noah', 'love', 'man','john']}\n",
        "\n",
        "similar_words"
      ],
      "metadata": {
        "id": "jfAn3P9vH1lK",
        "colab": {
          "base_uri": "https://localhost:8080/"
        },
        "outputId": "95efd6a4-e977-4fc3-8c0b-218b434a9613"
      },
      "execution_count": 87,
      "outputs": [
        {
          "output_type": "stream",
          "name": "stdout",
          "text": [
            "(12821, 12821)\n"
          ]
        },
        {
          "output_type": "execute_result",
          "data": {
            "text/plain": [
              "{'egypt': ['transforming', 'proverbs', 'feignedly', 'jeshua', 'wrest'],\n",
              " 'god': ['inordinate', 'arabah', 'longing', 'mehida', 'jokdeam'],\n",
              " 'john': ['timnite', 'push', 'padanaram', 'tabering', 'simeon'],\n",
              " 'love': ['geuel', 'izhar', 'naomi', 'withered', 'sargon'],\n",
              " 'man': ['remnant', 'winebibbers', 'offereth', 'hungred', 'rhegium'],\n",
              " 'noah': ['smelled', 'joiakim', 'determine', 'wellpleasing', 'vail']}"
            ]
          },
          "metadata": {},
          "execution_count": 87
        }
      ]
    },
    {
      "cell_type": "code",
      "source": [
        "from sklearn.manifold import TSNE\n",
        "import numpy as np\n",
        "import matplotlib.pyplot as plt\n",
        "\n",
        "words = sum([[k] + v for k, v in similar_words.items()], [])\n",
        "words_ids = [token2id[w] for w in words]\n",
        "word_vectors = np.array([weights[idx] for idx in words_ids])\n",
        "print('Total words:', len(words), '\\tWord Embedding shapes:', word_vectors.shape)\n",
        "\n",
        "tsne = TSNE(n_components=2, random_state=0, n_iter=10000, perplexity=3)\n",
        "np.set_printoptions(suppress=True)\n",
        "T = tsne.fit_transform(word_vectors)\n",
        "labels = words\n",
        "\n",
        "plt.figure(figsize=(14, 8))\n",
        "plt.scatter(T[:, 0], T[:, 1], c='steelblue', edgecolors='k')\n",
        "for label, x, y in zip(labels, T[:, 0], T[:, 1]):\n",
        "    plt.annotate(label, xy=(x+1, y+1), xytext=(0, 0), textcoords='offset points')"
      ],
      "metadata": {
        "id": "3iFnDvIuIFJ-",
        "colab": {
          "base_uri": "https://localhost:8080/",
          "height": 590
        },
        "outputId": "86ba4772-892e-44c3-aaf3-e66c9ee1d0c4"
      },
      "execution_count": 88,
      "outputs": [
        {
          "output_type": "stream",
          "name": "stdout",
          "text": [
            "Total words: 36 \tWord Embedding shapes: (36, 512)\n"
          ]
        },
        {
          "output_type": "stream",
          "name": "stderr",
          "text": [
            "/usr/local/lib/python3.7/dist-packages/sklearn/manifold/_t_sne.py:783: FutureWarning: The default initialization in TSNE will change from 'random' to 'pca' in 1.2.\n",
            "  FutureWarning,\n",
            "/usr/local/lib/python3.7/dist-packages/sklearn/manifold/_t_sne.py:793: FutureWarning: The default learning rate in TSNE will change from 200.0 to 'auto' in 1.2.\n",
            "  FutureWarning,\n"
          ]
        },
        {
          "output_type": "display_data",
          "data": {
            "text/plain": [
              "<Figure size 1008x576 with 1 Axes>"
            ],
            "image/png": "[encoded data removed]"
          },
          "metadata": {
            "needs_background": "light"
          }
        }
      ]
    },
    {
      "cell_type": "code",
      "source": [
        ""
      ],
      "metadata": {
        "id": "JnKcw68-JV3G"
      },
      "execution_count": null,
      "outputs": []
    }
  ],
  "metadata": {
    "colab": {
      "name": "Skip-Gram model",
      "provenance": [],
      "collapsed_sections": [],
      "include_colab_link": true
    },
    "kernelspec": {
      "display_name": "Python 3",
      "name": "python3"
    },
    "accelerator": "GPU"
  },
  "nbformat": 4,
  "nbformat_minor": 0
}